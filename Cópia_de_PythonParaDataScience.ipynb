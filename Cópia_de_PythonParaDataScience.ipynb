{
  "nbformat": 4,
  "nbformat_minor": 0,
  "metadata": {
    "colab": {
      "provenance": [],
      "authorship_tag": "ABX9TyOr3qUaHZWp6aknBCC0O9Sf",
      "include_colab_link": true
    },
    "kernelspec": {
      "name": "python3",
      "display_name": "Python 3"
    },
    "language_info": {
      "name": "python"
    }
  },
  "cells": [
    {
      "cell_type": "markdown",
      "metadata": {
        "id": "view-in-github",
        "colab_type": "text"
      },
      "source": [
        "<a href=\"https://colab.research.google.com/github/Vinicius-Silva-Almeida/Mackenzie/blob/main/C%C3%B3pia_de_PythonParaDataScience.ipynb\" target=\"_parent\"><img src=\"https://colab.research.google.com/assets/colab-badge.svg\" alt=\"Open In Colab\"/></a>"
      ]
    },
    {
      "cell_type": "markdown",
      "source": [
        "## **Criando Função em Python**"
      ],
      "metadata": {
        "id": "Op407q_4wU8q"
      }
    },
    {
      "cell_type": "markdown",
      "source": [
        "Aqui cria-se a função :"
      ],
      "metadata": {
        "id": "IHHmAKK8xGob"
      }
    },
    {
      "cell_type": "code",
      "execution_count": null,
      "metadata": {
        "id": "65X6UvPjudNk"
      },
      "outputs": [],
      "source": [
        "def saudacao():\n",
        "  nome = input('qual o seu nome : ')\n",
        "  idade = int(input('Quantos anos você têm : '))\n",
        "  print(f'Saudações {nome} , você têm {idade}!')\n",
        "  "
      ]
    },
    {
      "cell_type": "markdown",
      "source": [
        "Aqui chama-se a função : "
      ],
      "metadata": {
        "id": "BVDW_9QNxLyh"
      }
    },
    {
      "cell_type": "code",
      "source": [
        "saudacao()"
      ],
      "metadata": {
        "colab": {
          "base_uri": "https://localhost:8080/"
        },
        "id": "sZ2gL4cQw8oS",
        "outputId": "8aa93cb4-3144-48c3-978e-3f753a073192"
      },
      "execution_count": null,
      "outputs": [
        {
          "output_type": "stream",
          "name": "stdout",
          "text": [
            "qual o seu nome : alex\n",
            "Quantos anos você têm : 47\n",
            "Saudações alex , você têm 47!\n"
          ]
        }
      ]
    },
    {
      "cell_type": "markdown",
      "source": [
        "**Linguagem de alto nível** = são aquelas que são mas parecidas com a lnguagem humana. \n",
        "\n",
        "**Linguagem de baixo nível** = são aquelas mais próximas a linguagem de máquina. \n",
        "\n"
      ],
      "metadata": {
        "id": "x884QhvAx5gR"
      }
    },
    {
      "cell_type": "markdown",
      "source": [
        "# **Função com parâmetro**"
      ],
      "metadata": {
        "id": "RDFHELMe0HU6"
      }
    },
    {
      "cell_type": "code",
      "source": [
        "nome = 'vinicius'"
      ],
      "metadata": {
        "id": "6zDE6bAN0OB7"
      },
      "execution_count": null,
      "outputs": []
    },
    {
      "cell_type": "code",
      "source": [
        "def saudacao1(nome):\n",
        "  print(f'Olá {nome}')"
      ],
      "metadata": {
        "id": "_kN8Ix4S0RDx"
      },
      "execution_count": null,
      "outputs": []
    },
    {
      "cell_type": "code",
      "source": [
        "saudacao1(nome)"
      ],
      "metadata": {
        "colab": {
          "base_uri": "https://localhost:8080/"
        },
        "id": "FwECImEd0Yj6",
        "outputId": "cf289efe-d4dc-4310-cd30-9b267c61e53f"
      },
      "execution_count": null,
      "outputs": [
        {
          "output_type": "stream",
          "name": "stdout",
          "text": [
            "Olá vinicius\n"
          ]
        }
      ]
    },
    {
      "cell_type": "code",
      "source": [],
      "metadata": {
        "id": "DEL8K0QC0qqU"
      },
      "execution_count": null,
      "outputs": []
    },
    {
      "cell_type": "markdown",
      "source": [
        "# **Condicional**\n",
        "\n"
      ],
      "metadata": {
        "id": "DArZ7rjg0t-M"
      }
    },
    {
      "cell_type": "code",
      "source": [
        "idade = 20\n",
        "def verificando(idade):\n",
        "  if (idade < 18):\n",
        "    print(f'Você não é maior')\n",
        "  else:\n",
        "    print(f'Você pode dirigir pois têm {idade}!')"
      ],
      "metadata": {
        "id": "AGS1ZihV0zNa"
      },
      "execution_count": null,
      "outputs": []
    },
    {
      "cell_type": "code",
      "source": [
        "verificando(idade)"
      ],
      "metadata": {
        "colab": {
          "base_uri": "https://localhost:8080/"
        },
        "id": "WUyV7mpm2TRb",
        "outputId": "f80b13bf-4ecd-4a0d-d19d-10460720ba50"
      },
      "execution_count": null,
      "outputs": [
        {
          "output_type": "stream",
          "name": "stdout",
          "text": [
            "Você pode dirigir pois têm 20\n"
          ]
        }
      ]
    },
    {
      "cell_type": "code",
      "source": [
        "def verificando():\n",
        "  idade = int(input('Qual a sua idade? : '))\n",
        "  if (idade < 18):\n",
        "    print(f'Você não é maior, pois têm {idade}')\n",
        "  else:\n",
        "    print(f'Você pode dirigir pois têm {idade}!')"
      ],
      "metadata": {
        "id": "z-5yLT_Y4b1s"
      },
      "execution_count": null,
      "outputs": []
    },
    {
      "cell_type": "code",
      "source": [
        "verificando()"
      ],
      "metadata": {
        "colab": {
          "base_uri": "https://localhost:8080/"
        },
        "id": "ul2IPkru4lTj",
        "outputId": "98e11373-64c3-4de4-c48e-7020e08a0450"
      },
      "execution_count": null,
      "outputs": [
        {
          "output_type": "stream",
          "name": "stdout",
          "text": [
            "Qual a sua idade? : 15\n",
            "Você não é maior, pois têm 15\n"
          ]
        }
      ]
    },
    {
      "cell_type": "code",
      "source": [
        "espaco = int(input('Qual a distância percorrida : '))\n",
        "tempo = int(input('Quanto tempo você demora ? : '))"
      ],
      "metadata": {
        "colab": {
          "base_uri": "https://localhost:8080/"
        },
        "id": "E4UMkiV_GRve",
        "outputId": "ee8ecd56-966a-40b9-bd14-c0e51e0c16b7"
      },
      "execution_count": null,
      "outputs": [
        {
          "name": "stdout",
          "output_type": "stream",
          "text": [
            "Qual a distância percorrida : 100\n",
            "Quanto tempo você demora ? : 20\n"
          ]
        }
      ]
    },
    {
      "cell_type": "code",
      "source": [
        "def velocidade(espaco,tempo):\n",
        "  velocidade = espaco/tempo\n",
        "  print(f'A velocidade média é de {velocidade} m/s')"
      ],
      "metadata": {
        "id": "dg3JOJRAGHL1"
      },
      "execution_count": null,
      "outputs": []
    },
    {
      "cell_type": "code",
      "source": [
        "velocidade(espaco,tempo)"
      ],
      "metadata": {
        "colab": {
          "base_uri": "https://localhost:8080/"
        },
        "id": "39Ik1HslGnyG",
        "outputId": "1b30d563-6238-48d8-9425-2d008d374d93"
      },
      "execution_count": null,
      "outputs": [
        {
          "output_type": "stream",
          "name": "stdout",
          "text": [
            "A velocidade média é de 5.0 m/s\n"
          ]
        }
      ]
    },
    {
      "cell_type": "markdown",
      "source": [
        "# **Criando Listas**\n"
      ],
      "metadata": {
        "id": "oonlmqZKG_8-"
      }
    },
    {
      "cell_type": "code",
      "source": [
        "idades = [18, 22, 15, 50]\n",
        "idades"
      ],
      "metadata": {
        "colab": {
          "base_uri": "https://localhost:8080/"
        },
        "id": "FrgVGoSsHGW1",
        "outputId": "69f61ae0-c0e9-4fb0-d7f5-3f9983066a4e"
      },
      "execution_count": null,
      "outputs": [
        {
          "output_type": "execute_result",
          "data": {
            "text/plain": [
              "[18, 22, 15, 50]"
            ]
          },
          "metadata": {},
          "execution_count": 22
        }
      ]
    },
    {
      "cell_type": "markdown",
      "source": [
        "**A contagem das posições de uma lista começam em 0 sempre!**\n",
        "Logo ao dizer **idades[1]**, estou começando a contar do 18, sendo ele o 0, e indo até o 22 que é o 1.\n",
        "\n",
        "\n",
        "\n",
        "```\n",
        "idades[1]\n",
        "22\n",
        "```\n",
        "\n",
        "\n",
        "\n"
      ],
      "metadata": {
        "id": "I20Dcr3-HlxY"
      }
    },
    {
      "cell_type": "code",
      "source": [
        "idades[1]"
      ],
      "metadata": {
        "colab": {
          "base_uri": "https://localhost:8080/"
        },
        "id": "OwAvIppvHcc_",
        "outputId": "48b69227-9683-41b9-887b-0a1e53289ce8"
      },
      "execution_count": null,
      "outputs": [
        {
          "output_type": "execute_result",
          "data": {
            "text/plain": [
              "22"
            ]
          },
          "metadata": {},
          "execution_count": 24
        }
      ]
    },
    {
      "cell_type": "code",
      "source": [
        "idades[0:2]"
      ],
      "metadata": {
        "colab": {
          "base_uri": "https://localhost:8080/"
        },
        "id": "lKLwY-hKIJ3O",
        "outputId": "e7e26c26-6ecb-4dad-f56f-7e6c2bf83e70"
      },
      "execution_count": null,
      "outputs": [
        {
          "output_type": "execute_result",
          "data": {
            "text/plain": [
              "[18, 22]"
            ]
          },
          "metadata": {},
          "execution_count": 25
        }
      ]
    },
    {
      "cell_type": "markdown",
      "source": [
        "***Esse comando serve para mostrar todos os elemento começando em 0 e indo até a posição 2 da lista, porém ele não exibe o valor da lista na posição 2, pois dizemos que esse valor depois dos dois pontos, é um número de parada. Dessa forma, quando o código \"olhar\" para o 2 ele para e não o mostra. ***"
      ],
      "metadata": {
        "id": "iCtiEgLEIbzI"
      }
    },
    {
      "cell_type": "code",
      "source": [
        "idades[1:]"
      ],
      "metadata": {
        "colab": {
          "base_uri": "https://localhost:8080/"
        },
        "id": "uPrGKmXjUkum",
        "outputId": "f1427ee3-af88-4a33-cc6f-be26cc1caf73"
      },
      "execution_count": null,
      "outputs": [
        {
          "output_type": "execute_result",
          "data": {
            "text/plain": [
              "[22, 15, 50]"
            ]
          },
          "metadata": {},
          "execution_count": 28
        }
      ]
    },
    {
      "cell_type": "code",
      "source": [
        "idades[-2]"
      ],
      "metadata": {
        "colab": {
          "base_uri": "https://localhost:8080/"
        },
        "id": "hbo3wf4BU1KN",
        "outputId": "5045ed44-eb21-4d95-c0cd-cf23bc2cde9a"
      },
      "execution_count": null,
      "outputs": [
        {
          "output_type": "execute_result",
          "data": {
            "text/plain": [
              "15"
            ]
          },
          "metadata": {},
          "execution_count": 29
        }
      ]
    },
    {
      "cell_type": "markdown",
      "source": [
        "**Usando números negativos, o \"contador\" da lista começa a contar para trás. Logo 0 termo -1, é o ultimo termo da lista. O -2 é o penultimo e assim sucessivamente. ***"
      ],
      "metadata": {
        "id": "M8Oq5Yf7U5IX"
      }
    },
    {
      "cell_type": "markdown",
      "source": [
        "# **Laços e loops**"
      ],
      "metadata": {
        "id": "VXprNFWTd0ZO"
      }
    },
    {
      "cell_type": "code",
      "source": [
        "idades\n"
      ],
      "metadata": {
        "colab": {
          "base_uri": "https://localhost:8080/"
        },
        "id": "BFFZXix5eoi8",
        "outputId": "39fdd4c9-1576-4e42-ad86-68897c4de5e8"
      },
      "execution_count": null,
      "outputs": [
        {
          "output_type": "execute_result",
          "data": {
            "text/plain": [
              "[18, 22, 15, 50]"
            ]
          },
          "metadata": {},
          "execution_count": 39
        }
      ]
    },
    {
      "cell_type": "markdown",
      "source": [
        "For fora da função:"
      ],
      "metadata": {
        "id": "GxGs2dduhmQm"
      }
    },
    {
      "cell_type": "code",
      "source": [
        "def verificando(idade):\n",
        "  if (idade >= 18):\n",
        "    print(f'Você  pode dirigir, pois tem {idade}')\n",
        "  else:\n",
        "    print(f'Você não pode dirigir,pois têm {idade}!')\n",
        "\n",
        "for idade in idades:\n",
        "  verificando(idade)"
      ],
      "metadata": {
        "colab": {
          "base_uri": "https://localhost:8080/"
        },
        "id": "AY0QcnGdd3xE",
        "outputId": "6da66e19-617b-4f2c-ebce-0d607af07658"
      },
      "execution_count": null,
      "outputs": [
        {
          "output_type": "stream",
          "name": "stdout",
          "text": [
            "Você  pode dirigir, pois tem 18\n",
            "Você  pode dirigir, pois tem 22\n",
            "Você não pode dirigir,pois têm 15!\n",
            "Você  pode dirigir, pois tem 50\n"
          ]
        }
      ]
    },
    {
      "cell_type": "markdown",
      "source": [
        "For dentro da função :"
      ],
      "metadata": {
        "id": "DfC7AoCshr1V"
      }
    },
    {
      "cell_type": "code",
      "source": [
        "def verificando(idades):\n",
        "  for idade in idades:\n",
        "    if idade >= 18:\n",
        "      print(f'Você pode dirigir, pois têm {idade}')\n",
        "    else:\n",
        "      print('Você não pode dirigir')\n",
        "\n",
        "verificando(idades)"
      ],
      "metadata": {
        "colab": {
          "base_uri": "https://localhost:8080/"
        },
        "id": "kwYVgHioe_oc",
        "outputId": "ec98eab0-8cfc-4684-956b-cacd1f187e03"
      },
      "execution_count": null,
      "outputs": [
        {
          "output_type": "stream",
          "name": "stdout",
          "text": [
            "Você pode dirigir, pois têm 18\n",
            "Você pode dirigir, pois têm 22\n",
            "Você não pode dirigir\n",
            "Você pode dirigir, pois têm 50\n"
          ]
        }
      ]
    },
    {
      "cell_type": "markdown",
      "source": [
        "# **Booleano**"
      ],
      "metadata": {
        "id": "Z-GDBQtah4CH"
      }
    },
    {
      "cell_type": "code",
      "source": [
        "permissoes = []\n",
        "idades = [20, 14, 40]\n",
        "\n",
        "def verificar_dirigir(idades,permissoes):\n",
        "  for idade in idades:\n",
        "    if idade >= 18:\n",
        "      permissoes.append(True)\n",
        "    else:\n",
        "      permissoes.append(False)\n",
        "\n",
        "verificar_dirigir(idades,permissoes)\n",
        "print(permissoes)"
      ],
      "metadata": {
        "colab": {
          "base_uri": "https://localhost:8080/"
        },
        "id": "fymRJNioh7SW",
        "outputId": "c5677af9-252c-4d20-a680-918ca1452dc6"
      },
      "execution_count": null,
      "outputs": [
        {
          "output_type": "stream",
          "name": "stdout",
          "text": [
            "[True, False, True]\n"
          ]
        }
      ]
    }
  ]
}